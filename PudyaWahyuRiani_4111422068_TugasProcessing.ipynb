{
  "cells": [
    {
      "cell_type": "markdown",
      "source": [
        "Konteks\n",
        "\n",
        "Di industri perfilman, pemahaman yang mendalam tentang performa film sangat penting untuk keberhasilan jangka panjang. Penonton yang tidak tertarik atau menurunnya popularitas suatu film dapat memengaruhi pendapatan dan reputasi studio. Oleh karena itu, penting untuk memahami faktor-faktor yang memengaruhi kesuksesan atau kegagalan film, termasuk bagaimana rating, durasi, jumlah like di media sosial, dan genre dapat memengaruhi minat penonton.\n",
        "\n",
        "Problem Statement\n",
        "\n",
        "studi beserta para director menghadapi tantangan dalam mengidentifikasi film-film yang memiliki potensi rendah dalam menarik perhatian penonton. Variabel seperti pada data yang dimiliki dapat menjadi faktor yang perlu dianalisis untuk memahami performa film.\n",
        "\n",
        "Dengan memahami variabel-variabel ini, dapat dikembangkan model prediksi yang dapat mengklasifikasikan film sebagai “High Popularity” atau “Low Popularity”. Dengan demikian, studio dapat membuat strategi yang lebih tepat untuk meningkatkan engagement penonton dan merencanakan promosi yang efektif.\n",
        "\n",
        "Masalah ini penting karena pengaruhnya terhadap pendapatan dan keberhasilan film. Film yang kurang diminati dapat menandakan adanya ketidakcocokan dengan preferensi penonton, sehingga studio perlu menyesuaikan strategi produksi dan promosi untuk meningkatkan daya tarik film.\n",
        "\n",
        "Tujuan\n",
        "\n",
        "Berdasarkan permasalahan tersebut,  proses ini bertujuan untuk membersihkan data, standarisasi data, normalisasi data serta binning data agar data yang dimiliki nantinya dapat diproses lebih lanjut dengan baik. Dengan pemahaman ini, studio dapat mengambil langkah yang tepat dalam merencanakan strategi promosi, meningkatkan engagement penonton, dan mengoptimalkan produksi film."
      ],
      "metadata": {
        "id": "AiC0YNOdfipI"
      }
    },
    {
      "cell_type": "code",
      "execution_count": 72,
      "metadata": {
        "id": "g8sQZ9lT5VyZ"
      },
      "outputs": [],
      "source": [
        "import pandas as pd\n",
        "import numpy as np"
      ]
    },
    {
      "cell_type": "markdown",
      "metadata": {
        "id": "w1ZQ8McwYSFk"
      },
      "source": [
        "1. Menampilkan 5 Baris Data Set Pertama"
      ]
    },
    {
      "cell_type": "code",
      "execution_count": 73,
      "metadata": {
        "colab": {
          "base_uri": "https://localhost:8080/",
          "height": 487
        },
        "id": "kvd1DQKc5lte",
        "outputId": "c3509679-004b-4af2-b07a-73c73ad973f1"
      },
      "outputs": [
        {
          "output_type": "execute_result",
          "data": {
            "text/plain": [
              "    color      director_name  duration        gross  \\\n",
              "0   Color    Martin Scorsese       240  116866727.0   \n",
              "1   Color        Shane Black       195  408992272.0   \n",
              "2  color   Quentin Tarantino       187   54116191.0   \n",
              "3   Color   Kenneth Lonergan       186      46495.0   \n",
              "4   Color      Peter Jackson       186  258355354.0   \n",
              "\n",
              "                                 genres                          movie_title  \\\n",
              "0          Biography|Comedy|Crime|Drama              The Wolf of Wall Street   \n",
              "1               Action|Adventure|Sci-Fi                           Iron Man 3   \n",
              "2  Crime|Drama|Mystery|Thriller|Western                    The Hateful Eight   \n",
              "3                                 Drama                             Margaret   \n",
              "4                     Adventure|Fantasy  The Hobbit: The Desolation of Smaug   \n",
              "\n",
              "   title_year language country       budget  imdb_score  \\\n",
              "0        2013  English     USA  100000000.0         8.2   \n",
              "1        2013  English     USA  200000000.0         7.2   \n",
              "2        2015  English     USA   44000000.0         7.9   \n",
              "3        2011  English     usa   14000000.0         6.5   \n",
              "4        2013  English     USA  225000000.0         7.9   \n",
              "\n",
              "                                              actors  movie_facebook_likes  \n",
              "0  Leonardo DiCaprio,Matthew McConaughey,Jon Favreau                138000  \n",
              "1          Robert Downey Jr.,Jon Favreau,Don Cheadle                 95000  \n",
              "2         Craig Stark,Jennifer Jason Leigh,ZoÃ« Bell                114000  \n",
              "3        Matt Damon,Kieran Culkin,John Gallagher Jr.                     0  \n",
              "4              Aidan Turner,Adam Brown,James Nesbitt                 83000  "
            ],
            "text/html": [
              "\n",
              "  <div id=\"df-2766d202-e5da-42a4-83c2-9dc3630238df\" class=\"colab-df-container\">\n",
              "    <div>\n",
              "<style scoped>\n",
              "    .dataframe tbody tr th:only-of-type {\n",
              "        vertical-align: middle;\n",
              "    }\n",
              "\n",
              "    .dataframe tbody tr th {\n",
              "        vertical-align: top;\n",
              "    }\n",
              "\n",
              "    .dataframe thead th {\n",
              "        text-align: right;\n",
              "    }\n",
              "</style>\n",
              "<table border=\"1\" class=\"dataframe\">\n",
              "  <thead>\n",
              "    <tr style=\"text-align: right;\">\n",
              "      <th></th>\n",
              "      <th>color</th>\n",
              "      <th>director_name</th>\n",
              "      <th>duration</th>\n",
              "      <th>gross</th>\n",
              "      <th>genres</th>\n",
              "      <th>movie_title</th>\n",
              "      <th>title_year</th>\n",
              "      <th>language</th>\n",
              "      <th>country</th>\n",
              "      <th>budget</th>\n",
              "      <th>imdb_score</th>\n",
              "      <th>actors</th>\n",
              "      <th>movie_facebook_likes</th>\n",
              "    </tr>\n",
              "  </thead>\n",
              "  <tbody>\n",
              "    <tr>\n",
              "      <th>0</th>\n",
              "      <td>Color</td>\n",
              "      <td>Martin Scorsese</td>\n",
              "      <td>240</td>\n",
              "      <td>116866727.0</td>\n",
              "      <td>Biography|Comedy|Crime|Drama</td>\n",
              "      <td>The Wolf of Wall Street</td>\n",
              "      <td>2013</td>\n",
              "      <td>English</td>\n",
              "      <td>USA</td>\n",
              "      <td>100000000.0</td>\n",
              "      <td>8.2</td>\n",
              "      <td>Leonardo DiCaprio,Matthew McConaughey,Jon Favreau</td>\n",
              "      <td>138000</td>\n",
              "    </tr>\n",
              "    <tr>\n",
              "      <th>1</th>\n",
              "      <td>Color</td>\n",
              "      <td>Shane Black</td>\n",
              "      <td>195</td>\n",
              "      <td>408992272.0</td>\n",
              "      <td>Action|Adventure|Sci-Fi</td>\n",
              "      <td>Iron Man 3</td>\n",
              "      <td>2013</td>\n",
              "      <td>English</td>\n",
              "      <td>USA</td>\n",
              "      <td>200000000.0</td>\n",
              "      <td>7.2</td>\n",
              "      <td>Robert Downey Jr.,Jon Favreau,Don Cheadle</td>\n",
              "      <td>95000</td>\n",
              "    </tr>\n",
              "    <tr>\n",
              "      <th>2</th>\n",
              "      <td>color</td>\n",
              "      <td>Quentin Tarantino</td>\n",
              "      <td>187</td>\n",
              "      <td>54116191.0</td>\n",
              "      <td>Crime|Drama|Mystery|Thriller|Western</td>\n",
              "      <td>The Hateful Eight</td>\n",
              "      <td>2015</td>\n",
              "      <td>English</td>\n",
              "      <td>USA</td>\n",
              "      <td>44000000.0</td>\n",
              "      <td>7.9</td>\n",
              "      <td>Craig Stark,Jennifer Jason Leigh,ZoÃ« Bell</td>\n",
              "      <td>114000</td>\n",
              "    </tr>\n",
              "    <tr>\n",
              "      <th>3</th>\n",
              "      <td>Color</td>\n",
              "      <td>Kenneth Lonergan</td>\n",
              "      <td>186</td>\n",
              "      <td>46495.0</td>\n",
              "      <td>Drama</td>\n",
              "      <td>Margaret</td>\n",
              "      <td>2011</td>\n",
              "      <td>English</td>\n",
              "      <td>usa</td>\n",
              "      <td>14000000.0</td>\n",
              "      <td>6.5</td>\n",
              "      <td>Matt Damon,Kieran Culkin,John Gallagher Jr.</td>\n",
              "      <td>0</td>\n",
              "    </tr>\n",
              "    <tr>\n",
              "      <th>4</th>\n",
              "      <td>Color</td>\n",
              "      <td>Peter Jackson</td>\n",
              "      <td>186</td>\n",
              "      <td>258355354.0</td>\n",
              "      <td>Adventure|Fantasy</td>\n",
              "      <td>The Hobbit: The Desolation of Smaug</td>\n",
              "      <td>2013</td>\n",
              "      <td>English</td>\n",
              "      <td>USA</td>\n",
              "      <td>225000000.0</td>\n",
              "      <td>7.9</td>\n",
              "      <td>Aidan Turner,Adam Brown,James Nesbitt</td>\n",
              "      <td>83000</td>\n",
              "    </tr>\n",
              "  </tbody>\n",
              "</table>\n",
              "</div>\n",
              "    <div class=\"colab-df-buttons\">\n",
              "\n",
              "  <div class=\"colab-df-container\">\n",
              "    <button class=\"colab-df-convert\" onclick=\"convertToInteractive('df-2766d202-e5da-42a4-83c2-9dc3630238df')\"\n",
              "            title=\"Convert this dataframe to an interactive table.\"\n",
              "            style=\"display:none;\">\n",
              "\n",
              "  <svg xmlns=\"http://www.w3.org/2000/svg\" height=\"24px\" viewBox=\"0 -960 960 960\">\n",
              "    <path d=\"M120-120v-720h720v720H120Zm60-500h600v-160H180v160Zm220 220h160v-160H400v160Zm0 220h160v-160H400v160ZM180-400h160v-160H180v160Zm440 0h160v-160H620v160ZM180-180h160v-160H180v160Zm440 0h160v-160H620v160Z\"/>\n",
              "  </svg>\n",
              "    </button>\n",
              "\n",
              "  <style>\n",
              "    .colab-df-container {\n",
              "      display:flex;\n",
              "      gap: 12px;\n",
              "    }\n",
              "\n",
              "    .colab-df-convert {\n",
              "      background-color: #E8F0FE;\n",
              "      border: none;\n",
              "      border-radius: 50%;\n",
              "      cursor: pointer;\n",
              "      display: none;\n",
              "      fill: #1967D2;\n",
              "      height: 32px;\n",
              "      padding: 0 0 0 0;\n",
              "      width: 32px;\n",
              "    }\n",
              "\n",
              "    .colab-df-convert:hover {\n",
              "      background-color: #E2EBFA;\n",
              "      box-shadow: 0px 1px 2px rgba(60, 64, 67, 0.3), 0px 1px 3px 1px rgba(60, 64, 67, 0.15);\n",
              "      fill: #174EA6;\n",
              "    }\n",
              "\n",
              "    .colab-df-buttons div {\n",
              "      margin-bottom: 4px;\n",
              "    }\n",
              "\n",
              "    [theme=dark] .colab-df-convert {\n",
              "      background-color: #3B4455;\n",
              "      fill: #D2E3FC;\n",
              "    }\n",
              "\n",
              "    [theme=dark] .colab-df-convert:hover {\n",
              "      background-color: #434B5C;\n",
              "      box-shadow: 0px 1px 3px 1px rgba(0, 0, 0, 0.15);\n",
              "      filter: drop-shadow(0px 1px 2px rgba(0, 0, 0, 0.3));\n",
              "      fill: #FFFFFF;\n",
              "    }\n",
              "  </style>\n",
              "\n",
              "    <script>\n",
              "      const buttonEl =\n",
              "        document.querySelector('#df-2766d202-e5da-42a4-83c2-9dc3630238df button.colab-df-convert');\n",
              "      buttonEl.style.display =\n",
              "        google.colab.kernel.accessAllowed ? 'block' : 'none';\n",
              "\n",
              "      async function convertToInteractive(key) {\n",
              "        const element = document.querySelector('#df-2766d202-e5da-42a4-83c2-9dc3630238df');\n",
              "        const dataTable =\n",
              "          await google.colab.kernel.invokeFunction('convertToInteractive',\n",
              "                                                    [key], {});\n",
              "        if (!dataTable) return;\n",
              "\n",
              "        const docLinkHtml = 'Like what you see? Visit the ' +\n",
              "          '<a target=\"_blank\" href=https://colab.research.google.com/notebooks/data_table.ipynb>data table notebook</a>'\n",
              "          + ' to learn more about interactive tables.';\n",
              "        element.innerHTML = '';\n",
              "        dataTable['output_type'] = 'display_data';\n",
              "        await google.colab.output.renderOutput(dataTable, element);\n",
              "        const docLink = document.createElement('div');\n",
              "        docLink.innerHTML = docLinkHtml;\n",
              "        element.appendChild(docLink);\n",
              "      }\n",
              "    </script>\n",
              "  </div>\n",
              "\n",
              "\n",
              "    <div id=\"df-f569a063-d8aa-4084-b78c-17859da95c5d\">\n",
              "      <button class=\"colab-df-quickchart\" onclick=\"quickchart('df-f569a063-d8aa-4084-b78c-17859da95c5d')\"\n",
              "                title=\"Suggest charts\"\n",
              "                style=\"display:none;\">\n",
              "\n",
              "<svg xmlns=\"http://www.w3.org/2000/svg\" height=\"24px\"viewBox=\"0 0 24 24\"\n",
              "     width=\"24px\">\n",
              "    <g>\n",
              "        <path d=\"M19 3H5c-1.1 0-2 .9-2 2v14c0 1.1.9 2 2 2h14c1.1 0 2-.9 2-2V5c0-1.1-.9-2-2-2zM9 17H7v-7h2v7zm4 0h-2V7h2v10zm4 0h-2v-4h2v4z\"/>\n",
              "    </g>\n",
              "</svg>\n",
              "      </button>\n",
              "\n",
              "<style>\n",
              "  .colab-df-quickchart {\n",
              "      --bg-color: #E8F0FE;\n",
              "      --fill-color: #1967D2;\n",
              "      --hover-bg-color: #E2EBFA;\n",
              "      --hover-fill-color: #174EA6;\n",
              "      --disabled-fill-color: #AAA;\n",
              "      --disabled-bg-color: #DDD;\n",
              "  }\n",
              "\n",
              "  [theme=dark] .colab-df-quickchart {\n",
              "      --bg-color: #3B4455;\n",
              "      --fill-color: #D2E3FC;\n",
              "      --hover-bg-color: #434B5C;\n",
              "      --hover-fill-color: #FFFFFF;\n",
              "      --disabled-bg-color: #3B4455;\n",
              "      --disabled-fill-color: #666;\n",
              "  }\n",
              "\n",
              "  .colab-df-quickchart {\n",
              "    background-color: var(--bg-color);\n",
              "    border: none;\n",
              "    border-radius: 50%;\n",
              "    cursor: pointer;\n",
              "    display: none;\n",
              "    fill: var(--fill-color);\n",
              "    height: 32px;\n",
              "    padding: 0;\n",
              "    width: 32px;\n",
              "  }\n",
              "\n",
              "  .colab-df-quickchart:hover {\n",
              "    background-color: var(--hover-bg-color);\n",
              "    box-shadow: 0 1px 2px rgba(60, 64, 67, 0.3), 0 1px 3px 1px rgba(60, 64, 67, 0.15);\n",
              "    fill: var(--button-hover-fill-color);\n",
              "  }\n",
              "\n",
              "  .colab-df-quickchart-complete:disabled,\n",
              "  .colab-df-quickchart-complete:disabled:hover {\n",
              "    background-color: var(--disabled-bg-color);\n",
              "    fill: var(--disabled-fill-color);\n",
              "    box-shadow: none;\n",
              "  }\n",
              "\n",
              "  .colab-df-spinner {\n",
              "    border: 2px solid var(--fill-color);\n",
              "    border-color: transparent;\n",
              "    border-bottom-color: var(--fill-color);\n",
              "    animation:\n",
              "      spin 1s steps(1) infinite;\n",
              "  }\n",
              "\n",
              "  @keyframes spin {\n",
              "    0% {\n",
              "      border-color: transparent;\n",
              "      border-bottom-color: var(--fill-color);\n",
              "      border-left-color: var(--fill-color);\n",
              "    }\n",
              "    20% {\n",
              "      border-color: transparent;\n",
              "      border-left-color: var(--fill-color);\n",
              "      border-top-color: var(--fill-color);\n",
              "    }\n",
              "    30% {\n",
              "      border-color: transparent;\n",
              "      border-left-color: var(--fill-color);\n",
              "      border-top-color: var(--fill-color);\n",
              "      border-right-color: var(--fill-color);\n",
              "    }\n",
              "    40% {\n",
              "      border-color: transparent;\n",
              "      border-right-color: var(--fill-color);\n",
              "      border-top-color: var(--fill-color);\n",
              "    }\n",
              "    60% {\n",
              "      border-color: transparent;\n",
              "      border-right-color: var(--fill-color);\n",
              "    }\n",
              "    80% {\n",
              "      border-color: transparent;\n",
              "      border-right-color: var(--fill-color);\n",
              "      border-bottom-color: var(--fill-color);\n",
              "    }\n",
              "    90% {\n",
              "      border-color: transparent;\n",
              "      border-bottom-color: var(--fill-color);\n",
              "    }\n",
              "  }\n",
              "</style>\n",
              "\n",
              "      <script>\n",
              "        async function quickchart(key) {\n",
              "          const quickchartButtonEl =\n",
              "            document.querySelector('#' + key + ' button');\n",
              "          quickchartButtonEl.disabled = true;  // To prevent multiple clicks.\n",
              "          quickchartButtonEl.classList.add('colab-df-spinner');\n",
              "          try {\n",
              "            const charts = await google.colab.kernel.invokeFunction(\n",
              "                'suggestCharts', [key], {});\n",
              "          } catch (error) {\n",
              "            console.error('Error during call to suggestCharts:', error);\n",
              "          }\n",
              "          quickchartButtonEl.classList.remove('colab-df-spinner');\n",
              "          quickchartButtonEl.classList.add('colab-df-quickchart-complete');\n",
              "        }\n",
              "        (() => {\n",
              "          let quickchartButtonEl =\n",
              "            document.querySelector('#df-f569a063-d8aa-4084-b78c-17859da95c5d button');\n",
              "          quickchartButtonEl.style.display =\n",
              "            google.colab.kernel.accessAllowed ? 'block' : 'none';\n",
              "        })();\n",
              "      </script>\n",
              "    </div>\n",
              "\n",
              "    </div>\n",
              "  </div>\n"
            ],
            "application/vnd.google.colaboratory.intrinsic+json": {
              "type": "dataframe",
              "variable_name": "df",
              "summary": "{\n  \"name\": \"df\",\n  \"rows\": 99,\n  \"fields\": [\n    {\n      \"column\": \"color\",\n      \"properties\": {\n        \"dtype\": \"category\",\n        \"num_unique_values\": 3,\n        \"samples\": [\n          \"Color\",\n          \"color \",\n          \" Black and White\"\n        ],\n        \"semantic_type\": \"\",\n        \"description\": \"\"\n      }\n    },\n    {\n      \"column\": \"director_name\",\n      \"properties\": {\n        \"dtype\": \"string\",\n        \"num_unique_values\": 63,\n        \"samples\": [\n          \"David Ayer\",\n          \"Tony Gilroy\",\n          \"Martin Scorsese\"\n        ],\n        \"semantic_type\": \"\",\n        \"description\": \"\"\n      }\n    },\n    {\n      \"column\": \"duration\",\n      \"properties\": {\n        \"dtype\": \"number\",\n        \"std\": 72,\n        \"min\": -50,\n        \"max\": 650,\n        \"num_unique_values\": 39,\n        \"samples\": [\n          138,\n          135,\n          183\n        ],\n        \"semantic_type\": \"\",\n        \"description\": \"\"\n      }\n    },\n    {\n      \"column\": \"gross\",\n      \"properties\": {\n        \"dtype\": \"number\",\n        \"std\": 139950256.81859657,\n        \"min\": 41229.0,\n        \"max\": 623279547.0,\n        \"num_unique_values\": 85,\n        \"samples\": [\n          52474616.0,\n          116866727.0,\n          132550960.0\n        ],\n        \"semantic_type\": \"\",\n        \"description\": \"\"\n      }\n    },\n    {\n      \"column\": \"genres\",\n      \"properties\": {\n        \"dtype\": \"string\",\n        \"num_unique_values\": 56,\n        \"samples\": [\n          \"Biography|Comedy|Crime|Drama\",\n          \"Drama|Romance\",\n          \"Drama|Horror|Thriller\"\n        ],\n        \"semantic_type\": \"\",\n        \"description\": \"\"\n      }\n    },\n    {\n      \"column\": \"movie_title\",\n      \"properties\": {\n        \"dtype\": \"string\",\n        \"num_unique_values\": 91,\n        \"samples\": [\n          \"The Help\",\n          \"The Revenant\",\n          \"Avengers: Age of Ultron\"\n        ],\n        \"semantic_type\": \"\",\n        \"description\": \"\"\n      }\n    },\n    {\n      \"column\": \"title_year\",\n      \"properties\": {\n        \"dtype\": \"number\",\n        \"std\": 255,\n        \"min\": 202,\n        \"max\": 2016,\n        \"num_unique_values\": 9,\n        \"samples\": [\n          2016,\n          2015,\n          2014\n        ],\n        \"semantic_type\": \"\",\n        \"description\": \"\"\n      }\n    },\n    {\n      \"column\": \"language\",\n      \"properties\": {\n        \"dtype\": \"category\",\n        \"num_unique_values\": 1,\n        \"samples\": [\n          \"English\"\n        ],\n        \"semantic_type\": \"\",\n        \"description\": \"\"\n      }\n    },\n    {\n      \"column\": \"country\",\n      \"properties\": {\n        \"dtype\": \"category\",\n        \"num_unique_values\": 12,\n        \"samples\": [\n          \"Kyrgyzstan\"\n        ],\n        \"semantic_type\": \"\",\n        \"description\": \"\"\n      }\n    },\n    {\n      \"column\": \"budget\",\n      \"properties\": {\n        \"dtype\": \"number\",\n        \"std\": 77031692.48433194,\n        \"min\": 17350.0,\n        \"max\": 250000000.0,\n        \"num_unique_values\": 56,\n        \"samples\": [\n          100000000.0\n        ],\n        \"semantic_type\": \"\",\n        \"description\": \"\"\n      }\n    },\n    {\n      \"column\": \"imdb_score\",\n      \"properties\": {\n        \"dtype\": \"number\",\n        \"std\": 1.925513582443392,\n        \"min\": -7.5,\n        \"max\": 8.8,\n        \"num_unique_values\": 35,\n        \"samples\": [\n          3.0\n        ],\n        \"semantic_type\": \"\",\n        \"description\": \"\"\n      }\n    },\n    {\n      \"column\": \"actors\",\n      \"properties\": {\n        \"dtype\": \"string\",\n        \"num_unique_values\": 88,\n        \"samples\": [\n          \"Liam Neeson,Charlize Theron,Seth MacFarlane\"\n        ],\n        \"semantic_type\": \"\",\n        \"description\": \"\"\n      }\n    },\n    {\n      \"column\": \"movie_facebook_likes\",\n      \"properties\": {\n        \"dtype\": \"number\",\n        \"std\": 58108,\n        \"min\": 0,\n        \"max\": 349000,\n        \"num_unique_values\": 67,\n        \"samples\": [\n          72000\n        ],\n        \"semantic_type\": \"\",\n        \"description\": \"\"\n      }\n    }\n  ]\n}"
            }
          },
          "metadata": {},
          "execution_count": 73
        }
      ],
      "source": [
        "#Untuk menampilkan 5 baris data set pertama\n",
        "df = pd.read_excel('movie_sample_dataset.xlsx')\n",
        "df.head()"
      ]
    },
    {
      "cell_type": "markdown",
      "source": [
        "Data tersebut merupakan data yang menggambarkan film/movie di beberapa negara. Berikut adalah variabel-variabel yang terdapat dalam dataset :\n",
        "\n",
        "1. Color : pewarnaan pada film\n",
        "2. director_name : nama Director\n",
        "3. duration : durasi\n",
        "4. gross : Bruto\n",
        "5. genres : genre film\n",
        "6. movie_tittle : judul film\n",
        "7. title_year : tahun film ditayangkan\n",
        "8. language : bahasa\n",
        "9. country : negara\n",
        "10. budget : anggaran\n",
        "11. imdb_score : skor imdb\n",
        "12. actors : aktor\n",
        "13. movie_facebook_likes : Jumlah like film di Facebook.\n",
        "\n",
        "Data yang dimiliki mencakup berbagai variabel yang berkaitan dengan karakteristik dan performa film. Setiap baris dalam dataset mewakili satu film, sementara setiap kolom merepresentasikan atribut atau fitur tertentu yang dapat digunakan untuk menganalisis popularitas atau kesuksesan film. Variabel-variabel seperti durasi film, rating IMDB, jumlah like di Facebook, genre, dan jumlah votes dapat memberikan wawasan yang berharga tentang faktor-faktor yang memengaruhi minat penonton. Dengan memahami data ini, kita dapat mengembangkan model analisis atau prediksi yang tepat untuk mengidentifikasi film-film yang berpotensi diminati penonton dan merencanakan strategi promosi atau produksi yang lebih efektif."
      ],
      "metadata": {
        "id": "KQNowQ5lgz4s"
      }
    },
    {
      "cell_type": "markdown",
      "metadata": {
        "id": "qPMVbWj2Ydm-"
      },
      "source": [
        "2. Merubah Anomali Pada Dataset"
      ]
    },
    {
      "cell_type": "code",
      "execution_count": 74,
      "metadata": {
        "colab": {
          "base_uri": "https://localhost:8080/"
        },
        "id": "3LRrOZ_KfctE",
        "outputId": "fe2f550e-719c-45dd-e53e-548997fecdbb"
      },
      "outputs": [
        {
          "output_type": "stream",
          "name": "stdout",
          "text": [
            "Jumlah NaN setelah ganti durasi anomali: 4\n",
            "    color      director_name  duration        gross  \\\n",
            "6   Color      Peter Jackson       NaN  303001229.0   \n",
            "16  Color  Quentin Tarantino       NaN  162804648.0   \n",
            "34  Color     Gore Verbinski       NaN   89289910.0   \n",
            "98  Color     Clint Eastwood       NaN   47034272.0   \n",
            "\n",
            "                           genres                        movie_title  \\\n",
            "6               Adventure|Fantasy  The Hobbit: An Unexpected Journey   \n",
            "16                  Drama|Western                   Django Unchained   \n",
            "34       Action|Adventure|Western                    The Lone Ranger   \n",
            "98  Biography|Drama|Music|Musical                        Jersey Boys   \n",
            "\n",
            "    title_year language country       budget  imdb_score  \\\n",
            "6         2012  English     USA  180000000.0         7.9   \n",
            "16        2012  English     USA  100000000.0         8.5   \n",
            "34        2013  English     USA  215000000.0         6.5   \n",
            "98        2014  English     USA   40000000.0         6.9   \n",
            "\n",
            "                                            actors  movie_facebook_likes  \n",
            "6            Aidan Turner,Adam Brown,James Nesbitt                166000  \n",
            "16  Leonardo DiCaprio,Christoph Waltz,Ato Essandoh                199000  \n",
            "34           Johnny Depp,Ruth Wilson,Tom Wilkinson                 48000  \n",
            "98   Johnny Cannizzaro,Steve Schirripa,Scott Vance                 16000  \n"
          ]
        }
      ],
      "source": [
        "# KOLOM DURATION\n",
        "\n",
        "# Ganti data durasi anomali menjadi NaN\n",
        "df.loc[(df[\"duration\"] < 30) | (df[\"duration\"] > 300), \"duration\"] = np.nan\n",
        "\n",
        "# Mengetahui banyaknya pergantian anomali\n",
        "print(\"Jumlah NaN setelah ganti durasi anomali:\", df[\"duration\"].isnull().sum())\n",
        "\n",
        "# Lihat baris dengan durasi NaN\n",
        "print(df[df[\"duration\"].isnull()])\n"
      ]
    },
    {
      "cell_type": "code",
      "execution_count": 75,
      "metadata": {
        "colab": {
          "base_uri": "https://localhost:8080/"
        },
        "id": "qke6q6pFhle5",
        "outputId": "af3c51fb-39a4-4303-b205-6f615d7f4a94"
      },
      "outputs": [
        {
          "output_type": "stream",
          "name": "stdout",
          "text": [
            "Jumlah NaN di title_year setelah perbaikan: 2\n",
            "    color    director_name  duration        gross                   genres  \\\n",
            "5     NaN              NaN     183.0  330249062.0  Action|Adventure|Sci-Fi   \n",
            "81  Color  Daniel Espinosa     137.0    1206135.0     Crime|Drama|Thriller   \n",
            "\n",
            "                           movie_title  title_year language         country  \\\n",
            "5   Batman v Superman: Dawn of Justice         NaN  English             USA   \n",
            "81                            Child 44         NaN  English  Czech Republic   \n",
            "\n",
            "         budget  imdb_score                                    actors  \\\n",
            "5   250000000.0         6.9  Henry Cavill,Lauren Cohan,Alan D. Purwin   \n",
            "81   50000000.0         6.4     Tom Hardy,Fares Fares,Michael Nardone   \n",
            "\n",
            "    movie_facebook_likes  \n",
            "5                 197000  \n",
            "81                 18000  \n"
          ]
        }
      ],
      "source": [
        "# KOLOM TITTLE YEARS\n",
        "\n",
        "# Ganti tahun yang bukan 4 digit menjadi NaN\n",
        "df.loc[df[\"title_year\"].astype(str).str.len() != 4, \"title_year\"] = np.nan\n",
        "\n",
        "# Mengetahui banyaknya pergantian anomali\n",
        "print(\"Jumlah NaN di title_year setelah perbaikan:\", df[\"title_year\"].isnull().sum())\n",
        "\n",
        "# Lihat baris dengan title_year NaN\n",
        "print(df[df[\"title_year\"].isnull()])\n"
      ]
    },
    {
      "cell_type": "code",
      "execution_count": 76,
      "metadata": {
        "colab": {
          "base_uri": "https://localhost:8080/"
        },
        "id": "OQ7-9nyrRcEX",
        "outputId": "b2841b0c-1800-4a77-9268-702bc500bb05"
      },
      "outputs": [
        {
          "output_type": "stream",
          "name": "stdout",
          "text": [
            "Jumlah nilai negatif: 0\n",
            "Jumlah NaN di imdb_score: 2\n"
          ]
        }
      ],
      "source": [
        "#KOLOM IMDB_SCORE\n",
        "\n",
        "import numpy as np\n",
        "\n",
        "# Mengubah nilai negatif di kolom imdb_score menjadi NaN\n",
        "df.loc[df[\"imdb_score\"] < 0, \"imdb_score\"] = np.nan\n",
        "\n",
        "# Mengetahui apakah masih terdapat nilai negatif\n",
        "print(\"Jumlah nilai negatif:\", (df[\"imdb_score\"] < 0).sum())\n",
        "\n",
        "# Lihat baris dengan imdb_score NaN\n",
        "print(\"Jumlah NaN di imdb_score:\", df[\"imdb_score\"].isnull().sum())\n"
      ]
    },
    {
      "cell_type": "markdown",
      "metadata": {
        "id": "-5nMCTu5kf9t"
      },
      "source": [
        "MENANGANI DAN BEKERJA DENGAN MISSING VALUE"
      ]
    },
    {
      "cell_type": "markdown",
      "metadata": {
        "id": "vpnJSMvtYMZd"
      },
      "source": [
        "1. Identifikasi Missing Value"
      ]
    },
    {
      "cell_type": "code",
      "execution_count": 77,
      "metadata": {
        "colab": {
          "base_uri": "https://localhost:8080/"
        },
        "id": "CSVi9l7XRU_l",
        "outputId": "777fd6ae-9e86-4783-b613-92160c74b62a"
      },
      "outputs": [
        {
          "output_type": "stream",
          "name": "stdout",
          "text": [
            "color                   11\n",
            "director_name           13\n",
            "duration                 4\n",
            "gross                    8\n",
            "genres                   1\n",
            "movie_title              0\n",
            "title_year               2\n",
            "language                 0\n",
            "country                  0\n",
            "budget                   4\n",
            "imdb_score               2\n",
            "actors                   0\n",
            "movie_facebook_likes     0\n",
            "dtype: int64\n"
          ]
        }
      ],
      "source": [
        "import numpy as np\n",
        "df.shape\n",
        "\n",
        "# Replace \"?\",\" \",\"N/A\",\"Null\", dan \"Nan\" menjadi NaN\n",
        "df.replace([\"?\", \" \", \"N/A\", \"Null\", \"Nan\"], np.nan, inplace=True)\n",
        "\n",
        "# Mengetahui banyaknya missing value pada masing-masing kolom\n",
        "print(df.isnull().sum())\n",
        "\n"
      ]
    },
    {
      "cell_type": "markdown",
      "metadata": {
        "id": "8pGezltMMj5x"
      },
      "source": [
        "2. Menangani Missing Value"
      ]
    },
    {
      "cell_type": "markdown",
      "metadata": {
        "id": "zj6mw7S6MWdZ"
      },
      "source": [
        "          a. Penanganan Drop berdasarkan Row"
      ]
    },
    {
      "cell_type": "code",
      "execution_count": 78,
      "metadata": {
        "colab": {
          "base_uri": "https://localhost:8080/"
        },
        "id": "sDqbWUoWXg53",
        "outputId": "efa6f43f-48a0-437e-f4fe-f2d08f40431b"
      },
      "outputs": [
        {
          "output_type": "stream",
          "name": "stdout",
          "text": [
            "Jumlah data sebelum drop: 99\n",
            "Jumlah data setelah drop: 89\n",
            "\n",
            "Jumlah NaN di gross dan budget:\n",
            "gross     0\n",
            "budget    0\n",
            "dtype: int64\n",
            "\n",
            "5 baris pertama:\n",
            "    color      director_name  duration        gross  \\\n",
            "0   Color    Martin Scorsese     240.0  116866727.0   \n",
            "1   Color        Shane Black     195.0  408992272.0   \n",
            "2  color   Quentin Tarantino     187.0   54116191.0   \n",
            "3   Color   Kenneth Lonergan     186.0      46495.0   \n",
            "4   Color      Peter Jackson     186.0  258355354.0   \n",
            "\n",
            "                                 genres                          movie_title  \\\n",
            "0          Biography|Comedy|Crime|Drama              The Wolf of Wall Street   \n",
            "1               Action|Adventure|Sci-Fi                           Iron Man 3   \n",
            "2  Crime|Drama|Mystery|Thriller|Western                    The Hateful Eight   \n",
            "3                                 Drama                             Margaret   \n",
            "4                     Adventure|Fantasy  The Hobbit: The Desolation of Smaug   \n",
            "\n",
            "   title_year language country       budget  imdb_score  \\\n",
            "0      2013.0  English     USA  100000000.0         8.2   \n",
            "1      2013.0  English     USA  200000000.0         7.2   \n",
            "2      2015.0  English     USA   44000000.0         7.9   \n",
            "3      2011.0  English     usa   14000000.0         6.5   \n",
            "4      2013.0  English     USA  225000000.0         7.9   \n",
            "\n",
            "                                              actors  movie_facebook_likes  \n",
            "0  Leonardo DiCaprio,Matthew McConaughey,Jon Favreau                138000  \n",
            "1          Robert Downey Jr.,Jon Favreau,Don Cheadle                 95000  \n",
            "2         Craig Stark,Jennifer Jason Leigh,ZoÃ« Bell                114000  \n",
            "3        Matt Damon,Kieran Culkin,John Gallagher Jr.                     0  \n",
            "4              Aidan Turner,Adam Brown,James Nesbitt                 83000  \n",
            "\n",
            "5 baris akhir:\n",
            "    color    director_name  duration        gross  \\\n",
            "84  Color      Tony Gilroy     135.0  113165635.0   \n",
            "85  Color    Steve McQueen     134.0   56667870.0   \n",
            "86  Color  Paul Greengrass     134.0  107100855.0   \n",
            "87  Color       David Ayer     134.0   85707116.0   \n",
            "88  Color   Clint Eastwood       NaN   47034272.0   \n",
            "\n",
            "                           genres        movie_title  title_year language  \\\n",
            "84      Action|Adventure|Thriller  The Bourne Legacy      2012.0  English   \n",
            "85        Biography|Drama|History   12 Years a Slave      2013.0  English   \n",
            "86       Biography|Drama|Thriller   Captain Phillips      2013.0  English   \n",
            "87               Action|Drama|War               Fury      2014.0  English   \n",
            "88  Biography|Drama|Music|Musical        Jersey Boys      2014.0  English   \n",
            "\n",
            "   country       budget  imdb_score  \\\n",
            "84     USA  125000000.0         6.7   \n",
            "85     USA   20000000.0         8.1   \n",
            "86     USA   55000000.0         7.9   \n",
            "87     USA   68000000.0         7.6   \n",
            "88     USA   40000000.0         6.9   \n",
            "\n",
            "                                           actors  movie_facebook_likes  \n",
            "84          Jeremy Renner,Scott Glenn,Stacy Keach                 31000  \n",
            "85  QuvenzhanÃ© Wallis,Scoot McNairy,Taran Killam                 83000  \n",
            "86         Tom Hanks,Chris Mulkey,Michael Chernus                 65000  \n",
            "87             Brad Pitt,Logan Lerman,Jim Parrack                 82000  \n",
            "88  Johnny Cannizzaro,Steve Schirripa,Scott Vance                 16000  \n"
          ]
        }
      ],
      "source": [
        "#KOLOM GROSS DAN BUDGET\n",
        "\n",
        "print(\"Jumlah data sebelum drop:\", len(df))\n",
        "\n",
        "# drop row yang punya NaN di kolom \"gross\" atau \"budget\"\n",
        "df.dropna(subset=[\"gross\",\"budget\"], axis=0, inplace=True)\n",
        "\n",
        "# reset index biar rapi setelah row dihapus\n",
        "df.reset_index(drop=True, inplace=True)\n",
        "\n",
        "# cek jumlah data setelah drop\n",
        "print(\"Jumlah data setelah drop:\", len(df))\n",
        "\n",
        "# cek apakah masih ada NaN\n",
        "print(\"\\nJumlah NaN di gross dan budget:\")\n",
        "print(df[[\"gross\", \"budget\"]].isnull().sum())\n",
        "\n",
        "# cek 5 baris awal\n",
        "print(\"\\n5 baris pertama:\")\n",
        "print(df.head())\n",
        "\n",
        "# Cek 5 baris akhir\n",
        "print(\"\\n5 baris akhir:\")\n",
        "print(df.tail())"
      ]
    },
    {
      "cell_type": "markdown",
      "metadata": {
        "id": "jrUgY3nQNBTP"
      },
      "source": [
        "\n",
        "          b. Penanganan Nilai Tidak Konsisten pada Kolom (Kolom color)\n",
        "\n"
      ]
    },
    {
      "cell_type": "code",
      "execution_count": 79,
      "metadata": {
        "colab": {
          "base_uri": "https://localhost:8080/"
        },
        "id": "XizFrXVVXBmH",
        "outputId": "8bc8aebd-8f59-4e2f-e244-2c3cf3b99d53"
      },
      "outputs": [
        {
          "output_type": "stream",
          "name": "stdout",
          "text": [
            "['Color' 'Color ' nan ' Black And White']\n"
          ]
        }
      ],
      "source": [
        "# Rapihin format huruf di kolom color\n",
        "df[\"color\"] = df[\"color\"].str.title()\n",
        "\n",
        "# Cek hasil\n",
        "print(df[\"color\"].unique())\n"
      ]
    },
    {
      "cell_type": "code",
      "execution_count": 80,
      "metadata": {
        "colab": {
          "base_uri": "https://localhost:8080/"
        },
        "id": "xGKHifV-lAh_",
        "outputId": "140ad8cc-da28-43f9-f2c4-97d505515da4"
      },
      "outputs": [
        {
          "output_type": "stream",
          "name": "stdout",
          "text": [
            "['USA' 'Germany' 'New Zealand' 'UK' 'United States' 'France' 'Australia'\n",
            " 'Czech Republic']\n"
          ]
        }
      ],
      "source": [
        "# ubah hanya 'usa' jadi 'USA'\n",
        "df['country'] = df['country'].replace('usa', 'USA')\n",
        "\n",
        "# Cek hasil\n",
        "print(df[\"country\"].unique())"
      ]
    },
    {
      "cell_type": "markdown",
      "metadata": {
        "id": "dj4xbVyPbD2q"
      },
      "source": [
        "\n",
        "          c. Penanganan Missing Data\n",
        "             Penanganan missing data dengan mean\n",
        "             \"imdb_score\" : 2 missing data\n",
        "             \"tittle_years\" : 2 missing data\n",
        "             Penanganan missing data dengan median\n",
        "             \"duration\" : 4 missing data\n",
        "             Penanganan missing data dengan Modus :\n",
        "             \"director_name\" : 13 missing data\n",
        "             \"genres\" : 1 missing data"
      ]
    },
    {
      "cell_type": "markdown",
      "metadata": {
        "id": "88BqhSmcVZn3"
      },
      "source": [
        "MEAN"
      ]
    },
    {
      "cell_type": "code",
      "execution_count": 81,
      "metadata": {
        "colab": {
          "base_uri": "https://localhost:8080/"
        },
        "id": "Bv7C4WaDVg2p",
        "outputId": "bad144c8-b1ce-45d8-b2d9-689aa74af43f"
      },
      "outputs": [
        {
          "output_type": "stream",
          "name": "stdout",
          "text": [
            "Average of title_year: 2012.9310344827586\n"
          ]
        },
        {
          "output_type": "stream",
          "name": "stderr",
          "text": [
            "/tmp/ipython-input-4269497570.py:8: FutureWarning: A value is trying to be set on a copy of a DataFrame or Series through chained assignment using an inplace method.\n",
            "The behavior will change in pandas 3.0. This inplace method will never work because the intermediate object on which we are setting values always behaves as a copy.\n",
            "\n",
            "For example, when doing 'df[col].method(value, inplace=True)', try using 'df.method({col: value}, inplace=True)' or df[col] = df[col].method(value) instead, to perform the operation inplace on the original object.\n",
            "\n",
            "\n",
            "  df[\"title_year\"].replace(np.nan, avg_title_year, inplace=True)\n"
          ]
        }
      ],
      "source": [
        "# KOLOM TITTLE YEAR\n",
        "\n",
        "#Menghitung rata-rata mean\n",
        "avg_title_year = df[\"title_year\"].astype(\"float\").mean(axis=0)\n",
        "print(\"Average of title_year:\", avg_title_year)\n",
        "\n",
        "#replace missing title_year dengan mean\n",
        "df[\"title_year\"].replace(np.nan, avg_title_year, inplace=True)"
      ]
    },
    {
      "cell_type": "code",
      "execution_count": 82,
      "metadata": {
        "colab": {
          "base_uri": "https://localhost:8080/"
        },
        "id": "RkhENGFolZmB",
        "outputId": "963ad9a8-0b27-4407-d777-b60f51ac0385"
      },
      "outputs": [
        {
          "output_type": "stream",
          "name": "stdout",
          "text": [
            "Average of imdb_score: 7.178160919540229\n"
          ]
        },
        {
          "output_type": "stream",
          "name": "stderr",
          "text": [
            "/tmp/ipython-input-31027642.py:8: FutureWarning: A value is trying to be set on a copy of a DataFrame or Series through chained assignment using an inplace method.\n",
            "The behavior will change in pandas 3.0. This inplace method will never work because the intermediate object on which we are setting values always behaves as a copy.\n",
            "\n",
            "For example, when doing 'df[col].method(value, inplace=True)', try using 'df.method({col: value}, inplace=True)' or df[col] = df[col].method(value) instead, to perform the operation inplace on the original object.\n",
            "\n",
            "\n",
            "  df[\"imdb_score\"].replace(np.nan, avg_imdb_score, inplace=True)\n"
          ]
        }
      ],
      "source": [
        "# KOLOM IMDB_SCORE\n",
        "\n",
        "#Menghitung rata-rata mean\n",
        "avg_imdb_score = df[\"imdb_score\"].astype(\"float\").mean(axis=0)\n",
        "print(\"Average of imdb_score:\", avg_imdb_score)\n",
        "\n",
        "#Replace missing imdb_score dengan mean\n",
        "df[\"imdb_score\"].replace(np.nan, avg_imdb_score, inplace=True)"
      ]
    },
    {
      "cell_type": "markdown",
      "metadata": {
        "id": "AViMMJSv3vsp"
      },
      "source": [
        "MEDIAN"
      ]
    },
    {
      "cell_type": "code",
      "execution_count": 83,
      "metadata": {
        "colab": {
          "base_uri": "https://localhost:8080/"
        },
        "id": "M4AUMS-Els_h",
        "outputId": "8f59a0ee-3b2c-48dd-a6a2-6ee4dda88e13"
      },
      "outputs": [
        {
          "output_type": "stream",
          "name": "stdout",
          "text": [
            "Median of duration: 144.0\n"
          ]
        },
        {
          "output_type": "stream",
          "name": "stderr",
          "text": [
            "/tmp/ipython-input-3720359173.py:8: FutureWarning: A value is trying to be set on a copy of a DataFrame or Series through chained assignment using an inplace method.\n",
            "The behavior will change in pandas 3.0. This inplace method will never work because the intermediate object on which we are setting values always behaves as a copy.\n",
            "\n",
            "For example, when doing 'df[col].method(value, inplace=True)', try using 'df.method({col: value}, inplace=True)' or df[col] = df[col].method(value) instead, to perform the operation inplace on the original object.\n",
            "\n",
            "\n",
            "  df[\"duration\"].replace(np.nan, median_duration, inplace=True)\n"
          ]
        }
      ],
      "source": [
        "# KOLOM DURATION\n",
        "\n",
        "#Menghitung rata-rata mean\n",
        "median_duration = df['duration'].astype('float').median(axis=0)\n",
        "print(\"Median of duration:\", median_duration)\n",
        "\n",
        "#Replace missing imdb_score dengan mean\n",
        "df[\"duration\"].replace(np.nan, median_duration, inplace=True)"
      ]
    },
    {
      "cell_type": "markdown",
      "metadata": {
        "id": "a6j0KIaSVYRu"
      },
      "source": [
        "MODUS"
      ]
    },
    {
      "cell_type": "markdown",
      "metadata": {
        "id": "JKOOO492elFx"
      },
      "source": [
        "KOLOM DIRECTOR_NAME TERHADAP GENRE"
      ]
    },
    {
      "cell_type": "code",
      "execution_count": 84,
      "metadata": {
        "colab": {
          "base_uri": "https://localhost:8080/"
        },
        "id": "6wZLOX6bEGbD",
        "outputId": "e1c8bb59-5306-4115-86e1-bf50192627d1"
      },
      "outputs": [
        {
          "output_type": "stream",
          "name": "stdout",
          "text": [
            "   director_name                            genres\n",
            "5            NaN           Action|Adventure|Sci-Fi\n",
            "10           NaN      Crime|Drama|Mystery|Thriller\n",
            "23           NaN  Adventure|Drama|Thriller|Western\n",
            "27           NaN            Adventure|Drama|Sci-Fi\n",
            "30           NaN       Biography|Drama|History|War\n",
            "37           NaN           Action|Adventure|Sci-Fi\n",
            "54           NaN   Adventure|Drama|Sci-Fi|Thriller\n",
            "63           NaN          Adventure|Mystery|Sci-Fi\n",
            "67           NaN                       Crime|Drama\n",
            "74           NaN             Biography|Crime|Drama\n",
            "76           NaN                  Adventure|Sci-Fi\n",
            "83           NaN                             Drama\n"
          ]
        }
      ],
      "source": [
        "# tampilkan data director_name yang kosong beserta genres\n",
        "print(df[[\"director_name\",\"genres\"]][df[\"director_name\"].isnull()])"
      ]
    },
    {
      "cell_type": "code",
      "execution_count": 85,
      "metadata": {
        "colab": {
          "base_uri": "https://localhost:8080/"
        },
        "id": "X5_k-yaWc5P6",
        "outputId": "8c2b1077-62a2-48b1-c9fc-dd227e0f4618"
      },
      "outputs": [
        {
          "output_type": "stream",
          "name": "stdout",
          "text": [
            "\n",
            "Perbandingan director pada genre Crime|Drama|Mystery|Thriller:\n",
            "director_name\n",
            "Denis Villeneuve    1\n",
            "David Fincher       1\n",
            "Name: count, dtype: int64\n",
            "\n",
            "Perbandingan director pada genre Drama:\n",
            "director_name\n",
            "Kenneth Lonergan        1\n",
            "Richard Linklater       1\n",
            "Tate Taylor             1\n",
            "Paul Thomas Anderson    1\n",
            "Name: count, dtype: int64\n",
            "\n",
            "Perbandingan director pada genre Crime|Drama:\n",
            "director_name\n",
            "David Dobkin    1\n",
            "Name: count, dtype: int64\n",
            "\n",
            "Perbandingan director pada genre Action|Adventure|Sci-Fi:\n",
            "director_name\n",
            "Joss Whedon      3\n",
            "Michael Bay      2\n",
            "Shane Black      1\n",
            "Bryan Singer     1\n",
            "Anthony Russo    1\n",
            "Name: count, dtype: int64\n"
          ]
        }
      ],
      "source": [
        "# hitung jumlah director_name berdasarkan genre tertentu (Crime|Drama|Mystery|Thriller)\n",
        "print(\"\\nPerbandingan director pada genre Crime|Drama|Mystery|Thriller:\")\n",
        "print(df[\"director_name\"][df['genres']=='Crime|Drama|Mystery|Thriller'].value_counts())\n",
        "\n",
        "# hitung jumlah director_name berdasarkan genre tertentu (Drama)\n",
        "print(\"\\nPerbandingan director pada genre Drama:\")\n",
        "print(df[\"director_name\"][df['genres']=='Drama'].value_counts())\n",
        "\n",
        "# hitung jumlah director_name berdasarkan genre tertentu (Crime|Drama)\n",
        "print(\"\\nPerbandingan director pada genre Crime|Drama:\")\n",
        "print(df[\"director_name\"][df['genres']=='Crime|Drama'].value_counts())\n",
        "\n",
        "# hitung jumlah director_name berdasarkan genre tertentu ( Action|Adventure|Sci-Fi)\n",
        "print(\"\\nPerbandingan director pada genre Action|Adventure|Sci-Fi:\")\n",
        "print(df[\"director_name\"][df['genres']=='Action|Adventure|Sci-Fi'].value_counts())"
      ]
    },
    {
      "cell_type": "code",
      "execution_count": 86,
      "metadata": {
        "colab": {
          "base_uri": "https://localhost:8080/"
        },
        "id": "UXXfc6W7dBpu",
        "outputId": "02d4f599-59da-4e9e-ed4c-63a9fd6329e3"
      },
      "outputs": [
        {
          "output_type": "stream",
          "name": "stdout",
          "text": [
            "\n",
            "Director paling umum di genre Crime|Drama|Mystery|Thriller: Denis Villeneuve\n",
            "\n",
            "Director paling umum di genre Drama: Kenneth Lonergan\n",
            "\n",
            "Director paling umum di genre Crime|Drama: David Dobkin\n",
            "\n",
            "Director paling umum di genre Action|Adventure|Sci-Fi: Joss Whedon\n"
          ]
        }
      ],
      "source": [
        "# ambil director yang paling sering muncul\n",
        "print(\"\\nDirector paling umum di genre Crime|Drama|Mystery|Thriller:\", df['director_name'][df['genres']=='Crime|Drama|Mystery|Thriller'].value_counts().idxmax())\n",
        "\n",
        "# ambil director yang paling sering muncul\n",
        "print(\"\\nDirector paling umum di genre Drama:\", df['director_name'][df['genres']=='Drama'].value_counts().idxmax())\n",
        "\n",
        "# ambil director yang paling sering muncul\n",
        "print(\"\\nDirector paling umum di genre Crime|Drama:\", df['director_name'][df['genres']=='Crime|Drama'].value_counts().idxmax())\n",
        "\n",
        "# ambil director yang paling sering muncul pada genre Action\n",
        "print(\"\\nDirector paling umum di genre Action|Adventure|Sci-Fi:\", df['director_name'][df['genres']=='Action|Adventure|Sci-Fi'].value_counts().idxmax())"
      ]
    },
    {
      "cell_type": "code",
      "execution_count": 87,
      "metadata": {
        "id": "R6MuRXrSdWf1"
      },
      "outputs": [],
      "source": [
        "# replace missing data\n",
        "df.loc[(df[\"director_name\"].isnull()) & (df[\"genres\"]==\"Crime|Drama|Mystery|Thriller\"), \"director_name\"] = df[\"director_name\"][df['genres']==\"Crime|Drama|Mystery|Thriller\"].value_counts().idxmax()\n",
        "\n",
        "# replace missing data\n",
        "df.loc[(df[\"director_name\"].isnull()) & (df[\"genres\"]==\"Drama\"), \"director_name\"] = df[\"director_name\"][df['genres']==\"Drama\"].value_counts().idxmax()\n",
        "\n",
        "# replace missing data\n",
        "df.loc[(df[\"director_name\"].isnull()) & (df[\"genres\"]==\"Crime|Drama\"), \"director_name\"] = df[\"director_name\"][df['genres']==\"Crime|Drama\"].value_counts().idxmax()\n",
        "\n",
        "# replace missing 'director_name' dengan director paling sering (modus) di genre Action|Adventure|Sci-Fi\n",
        "df.loc[(df[\"director_name\"].isnull()) & (df[\"genres\"]==\"Action|Adventure|Sci-Fi\"), \"director_name\"] = df[\"director_name\"][df['genres']==\"Action|Adventure|Sci-Fi\"].value_counts().idxmax()"
      ]
    },
    {
      "cell_type": "code",
      "execution_count": 88,
      "metadata": {
        "colab": {
          "base_uri": "https://localhost:8080/"
        },
        "id": "uaMveD-ERGLB",
        "outputId": "6861a402-d142-4e5d-fa09-4397971e6506"
      },
      "outputs": [
        {
          "output_type": "stream",
          "name": "stdout",
          "text": [
            "   director_name                            genres\n",
            "23           NaN  Adventure|Drama|Thriller|Western\n",
            "27           NaN            Adventure|Drama|Sci-Fi\n",
            "30           NaN       Biography|Drama|History|War\n",
            "54           NaN   Adventure|Drama|Sci-Fi|Thriller\n",
            "63           NaN          Adventure|Mystery|Sci-Fi\n",
            "74           NaN             Biography|Crime|Drama\n",
            "76           NaN                  Adventure|Sci-Fi\n"
          ]
        }
      ],
      "source": [
        "# tampilkan data director_name yang kosong beserta genres\n",
        "print(df[[\"director_name\",\"genres\"]][df[\"director_name\"].isnull()])"
      ]
    },
    {
      "cell_type": "code",
      "execution_count": 89,
      "metadata": {
        "colab": {
          "base_uri": "https://localhost:8080/"
        },
        "id": "btbTUB60RY-F",
        "outputId": "14d5d33e-9a31-41da-825c-90f2d1d6c866"
      },
      "outputs": [
        {
          "output_type": "stream",
          "name": "stdout",
          "text": [
            "\n",
            "Jumlah director_name yang kosong sebelum diganti: 7\n",
            "\n",
            "Jumlah director_name yang kosong setelah diganti: 0\n"
          ]
        }
      ],
      "source": [
        "# info sebelum diganti\n",
        "print(\"\\nJumlah director_name yang kosong sebelum diganti:\", df[\"director_name\"].isnull().sum())\n",
        "\n",
        "# replace missing 'director_name' dengan 'Unknown'\n",
        "df[\"director_name\"] = df[\"director_name\"].replace(np.nan, \"Unknown\")\n",
        "\n",
        "# info setelah diganti\n",
        "print(\"\\nJumlah director_name yang kosong setelah diganti:\", df[\"director_name\"].isnull().sum())"
      ]
    },
    {
      "cell_type": "markdown",
      "metadata": {
        "id": "dEcSo0KTevKo"
      },
      "source": [
        "KOLOM COLOR TERHADAP TITLE YEAR"
      ]
    },
    {
      "cell_type": "code",
      "execution_count": 90,
      "metadata": {
        "colab": {
          "base_uri": "https://localhost:8080/"
        },
        "id": "89xmLHwuR2VU",
        "outputId": "fa3b7e0c-e1ef-4ab7-e09f-679c7ce3fc8f"
      },
      "outputs": [
        {
          "output_type": "stream",
          "name": "stdout",
          "text": [
            "   color  title_year\n",
            "5    NaN        2012\n",
            "9    NaN        2012\n",
            "14   NaN        2014\n",
            "17   NaN        2012\n",
            "57   NaN        2012\n",
            "66   NaN        2011\n",
            "68   NaN        2012\n",
            "72   NaN        2013\n",
            "75   NaN        2012\n",
            "79   NaN        2014\n"
          ]
        }
      ],
      "source": [
        "# ubah kolom title_year jadi integer biar rapi\n",
        "df[\"title_year\"] = df[\"title_year\"].astype(\"int\")\n",
        "\n",
        "# tampilkan data color dengan title_year\n",
        "print(df[[\"color\",\"title_year\"]][df[\"color\"].isnull()])"
      ]
    },
    {
      "cell_type": "code",
      "execution_count": 91,
      "metadata": {
        "colab": {
          "base_uri": "https://localhost:8080/"
        },
        "id": "2yXJLhDiSOGj",
        "outputId": "d938d593-6454-4caa-e987-7bda9e889b40"
      },
      "outputs": [
        {
          "output_type": "stream",
          "name": "stdout",
          "text": [
            "\n",
            "Perbandingan color pada title_year 2011:\n",
            "color\n",
            "Color               7\n",
            " Black And White    1\n",
            "Name: count, dtype: int64\n",
            "\n",
            "Perbandingan color pada title_year 2012:\n",
            "color\n",
            "Color    17\n",
            "Name: count, dtype: int64\n",
            "\n",
            "Perbandingan color pada title_year 2013:\n",
            "color\n",
            "Color    16\n",
            "Name: count, dtype: int64\n",
            "\n",
            "Perbandingan color pada title_year 2014:\n",
            "color\n",
            "Color    19\n",
            "Name: count, dtype: int64\n"
          ]
        }
      ],
      "source": [
        "# hitung jumlah color berdasarkan title_year tertentu (misal 2011)\n",
        "print(\"\\nPerbandingan color pada title_year 2011:\")\n",
        "print(df[\"color\"][df['title_year'] == 2011].value_counts()) # ()== 2011 adalah data int) kalau (=='2011' data string)\n",
        "\n",
        "# hitung jumlah color berdasarkan title_year tertentu (misal 2012)\n",
        "print(\"\\nPerbandingan color pada title_year 2012:\")\n",
        "print(df[\"color\"][df['title_year'] == 2012].value_counts())\n",
        "\n",
        "# hitung jumlah color berdasarkan title_year tertentu (misal 2013)\n",
        "print(\"\\nPerbandingan color pada title_year 2013:\")\n",
        "print(df[\"color\"][df['title_year'] == 2013].value_counts())\n",
        "\n",
        "# hitung jumlah color berdasarkan title_year tertentu (misal 2014)\n",
        "print(\"\\nPerbandingan color pada title_year 2014:\")\n",
        "print(df[\"color\"][df['title_year'] == 2014].value_counts())"
      ]
    },
    {
      "cell_type": "code",
      "execution_count": 92,
      "metadata": {
        "colab": {
          "base_uri": "https://localhost:8080/"
        },
        "id": "2S1lqvKva0ec",
        "outputId": "fd577588-b0c5-4019-a96d-d671b52debc9"
      },
      "outputs": [
        {
          "output_type": "stream",
          "name": "stdout",
          "text": [
            "\n",
            "color paling umum di title year 2011 : Color\n",
            "\n",
            "color paling umum di title year 2012 : Color\n",
            "\n",
            "color paling umum di title year 2013 : Color\n",
            "\n",
            "color paling umum di title year 2014 : Color\n"
          ]
        }
      ],
      "source": [
        "# ambil director yang paling sering muncul\n",
        "print(\"\\ncolor paling umum di title year 2011 :\", df['color'][df['title_year']== 2011 ].value_counts().idxmax())\n",
        "\n",
        "# ambil director yang paling sering muncul\n",
        "print(\"\\ncolor paling umum di title year 2012 :\", df['color'][df['title_year']== 2012 ].value_counts().idxmax())\n",
        "\n",
        "# ambil director yang paling sering muncul\n",
        "print(\"\\ncolor paling umum di title year 2013 :\", df['color'][df['title_year']== 2013 ].value_counts().idxmax())\n",
        "\n",
        "# ambil director yang paling sering muncul\n",
        "print(\"\\ncolor paling umum di title year 2014 :\", df['color'][df['title_year']== 2014 ].value_counts().idxmax())"
      ]
    },
    {
      "cell_type": "code",
      "execution_count": 93,
      "metadata": {
        "id": "T3KS-u57bVqX"
      },
      "outputs": [],
      "source": [
        "# replace missing 'color' dengan color paling sering muncul di tittle year\n",
        "df.loc[(df[\"color\"].isnull()) & (df[\"title_year\"]== 2011 ), \"color\"] = df[\"color\"][df['title_year']== 2011 ].value_counts().idxmax()\n",
        "\n",
        "# replace missing 'color' dengan color paling sering muncul di tittle year\n",
        "df.loc[(df[\"color\"].isnull()) & (df[\"title_year\"]== 2012 ), \"color\"] = df[\"color\"][df['title_year']== 2012 ].value_counts().idxmax()\n",
        "\n",
        "# replace missing 'color' dengan color paling sering muncul di tittle year\n",
        "df.loc[(df[\"color\"].isnull()) & (df[\"title_year\"]== 2013 ), \"color\"] = df[\"color\"][df['title_year']== 2013 ].value_counts().idxmax()\n",
        "\n",
        "# replace missing 'color' dengan color paling sering muncul di tittle year\n",
        "df.loc[(df[\"color\"].isnull()) & (df[\"title_year\"]== 2014 ), \"color\"] = df[\"color\"][df['title_year']== 2014 ].value_counts().idxmax()"
      ]
    },
    {
      "cell_type": "markdown",
      "metadata": {
        "id": "4hSiSghalgWZ"
      },
      "source": [
        "KOLOM GENRES TERHADAP TITLE_YEAR"
      ]
    },
    {
      "cell_type": "code",
      "execution_count": 94,
      "metadata": {
        "colab": {
          "base_uri": "https://localhost:8080/"
        },
        "id": "qWdYaNKIe3cP",
        "outputId": "a28b2464-b4f0-4f9c-d430-c9a544f5238d"
      },
      "outputs": [
        {
          "output_type": "stream",
          "name": "stdout",
          "text": [
            "   genres  title_year\n",
            "11    NaN        2014\n"
          ]
        }
      ],
      "source": [
        "# tampilkan data director_name yang kosong beserta genres\n",
        "print(df[[\"genres\",\"title_year\"]][df[\"genres\"].isnull()])"
      ]
    },
    {
      "cell_type": "code",
      "execution_count": 95,
      "metadata": {
        "colab": {
          "base_uri": "https://localhost:8080/"
        },
        "id": "po7H7_ZffV38",
        "outputId": "6a34415e-fe0a-4f17-8af0-83ac1167a3ee"
      },
      "outputs": [
        {
          "output_type": "stream",
          "name": "stdout",
          "text": [
            "\n",
            "Perbandingan genres pada titlr_year 2014 :\n",
            "genres\n",
            "Action|Adventure|Drama                      3\n",
            "Action|Adventure|Sci-Fi                     2\n",
            "Biography|Drama|Sport|War                   2\n",
            "Drama                                       1\n",
            "Adventure|Fantasy                           1\n",
            "Crime|Drama|Mystery|Thriller                1\n",
            "Action|Adventure|Fantasy|Sci-Fi|Thriller    1\n",
            "Adventure|Drama|Sci-Fi                      1\n",
            "Comedy|Crime|Drama|Mystery|Romance          1\n",
            "Action|Adventure|Fantasy|Sci-Fi             1\n",
            "Adventure|Mystery|Sci-Fi                    1\n",
            "Crime|Drama                                 1\n",
            "Biography|Drama|Music                       1\n",
            "Comedy|Western                              1\n",
            "Action|Drama|War                            1\n",
            "Biography|Drama|Music|Musical               1\n",
            "Name: count, dtype: int64\n",
            "\n",
            "genres paling umum di title year 2014: Action|Adventure|Drama\n"
          ]
        }
      ],
      "source": [
        "# hitung jumlah genres berdasarkan tittle year 2014\n",
        "print(\"\\nPerbandingan genres pada titlr_year 2014 :\")\n",
        "print(df[\"genres\"][df['title_year']==2014].value_counts())\n",
        "\n",
        "# ambil genre yang paling sering muncul\n",
        "print(\"\\ngenres paling umum di title year 2014:\", df['genres'][df['title_year']== 2014 ].value_counts().idxmax())\n",
        "\n",
        "# replace missing genres dengan  genres paling sering muncul di tittle year 2014\n",
        "df.loc[(df[\"genres\"].isnull()) & (df[\"title_year\"]== 2014 ), \"genres\"] = df[\"genres\"][df['title_year']== 2014 ].value_counts().idxmax()"
      ]
    },
    {
      "cell_type": "markdown",
      "metadata": {
        "id": "ojOjpZyJnYoH"
      },
      "source": [
        "3. Mengoresi Data Type Tiap Kolom"
      ]
    },
    {
      "cell_type": "code",
      "execution_count": 96,
      "metadata": {
        "colab": {
          "base_uri": "https://localhost:8080/",
          "height": 492
        },
        "id": "uVZo8mV_nib-",
        "outputId": "a7735de8-eedb-45a7-bce8-51d64b735e72"
      },
      "outputs": [
        {
          "output_type": "execute_result",
          "data": {
            "text/plain": [
              "color                    object\n",
              "director_name            object\n",
              "duration                float64\n",
              "gross                   float64\n",
              "genres                   object\n",
              "movie_title              object\n",
              "title_year                int64\n",
              "language                 object\n",
              "country                  object\n",
              "budget                  float64\n",
              "imdb_score              float64\n",
              "actors                   object\n",
              "movie_facebook_likes      int64\n",
              "dtype: object"
            ],
            "text/html": [
              "<div>\n",
              "<style scoped>\n",
              "    .dataframe tbody tr th:only-of-type {\n",
              "        vertical-align: middle;\n",
              "    }\n",
              "\n",
              "    .dataframe tbody tr th {\n",
              "        vertical-align: top;\n",
              "    }\n",
              "\n",
              "    .dataframe thead th {\n",
              "        text-align: right;\n",
              "    }\n",
              "</style>\n",
              "<table border=\"1\" class=\"dataframe\">\n",
              "  <thead>\n",
              "    <tr style=\"text-align: right;\">\n",
              "      <th></th>\n",
              "      <th>0</th>\n",
              "    </tr>\n",
              "  </thead>\n",
              "  <tbody>\n",
              "    <tr>\n",
              "      <th>color</th>\n",
              "      <td>object</td>\n",
              "    </tr>\n",
              "    <tr>\n",
              "      <th>director_name</th>\n",
              "      <td>object</td>\n",
              "    </tr>\n",
              "    <tr>\n",
              "      <th>duration</th>\n",
              "      <td>float64</td>\n",
              "    </tr>\n",
              "    <tr>\n",
              "      <th>gross</th>\n",
              "      <td>float64</td>\n",
              "    </tr>\n",
              "    <tr>\n",
              "      <th>genres</th>\n",
              "      <td>object</td>\n",
              "    </tr>\n",
              "    <tr>\n",
              "      <th>movie_title</th>\n",
              "      <td>object</td>\n",
              "    </tr>\n",
              "    <tr>\n",
              "      <th>title_year</th>\n",
              "      <td>int64</td>\n",
              "    </tr>\n",
              "    <tr>\n",
              "      <th>language</th>\n",
              "      <td>object</td>\n",
              "    </tr>\n",
              "    <tr>\n",
              "      <th>country</th>\n",
              "      <td>object</td>\n",
              "    </tr>\n",
              "    <tr>\n",
              "      <th>budget</th>\n",
              "      <td>float64</td>\n",
              "    </tr>\n",
              "    <tr>\n",
              "      <th>imdb_score</th>\n",
              "      <td>float64</td>\n",
              "    </tr>\n",
              "    <tr>\n",
              "      <th>actors</th>\n",
              "      <td>object</td>\n",
              "    </tr>\n",
              "    <tr>\n",
              "      <th>movie_facebook_likes</th>\n",
              "      <td>int64</td>\n",
              "    </tr>\n",
              "  </tbody>\n",
              "</table>\n",
              "</div><br><label><b>dtype:</b> object</label>"
            ]
          },
          "metadata": {},
          "execution_count": 96
        }
      ],
      "source": [
        "df.dtypes"
      ]
    },
    {
      "cell_type": "markdown",
      "metadata": {
        "id": "Xw5EDEre63an"
      },
      "source": [
        "STANDARIZATION"
      ]
    },
    {
      "cell_type": "markdown",
      "metadata": {
        "id": "Vdf1SoY66IGZ"
      },
      "source": [
        "KOLOM BUDGET DAN GROSS"
      ]
    },
    {
      "cell_type": "code",
      "execution_count": 97,
      "metadata": {
        "colab": {
          "base_uri": "https://localhost:8080/"
        },
        "id": "yN_yws1C-_fr",
        "outputId": "037d020c-65e6-40b5-f3d0-06027434e3cc"
      },
      "outputs": [
        {
          "output_type": "stream",
          "name": "stdout",
          "text": [
            "   budget_million_USD  gross_million_USD\n",
            "0               100.0         116.866727\n",
            "1               200.0         408.992272\n",
            "2                44.0          54.116191\n",
            "3                14.0           0.046495\n",
            "4               225.0         258.355354\n"
          ]
        }
      ],
      "source": [
        "# Ubah budget dan gross ke juta/million USD\n",
        "df[\"budget\"] = df[\"budget\"] / 1e6\n",
        "df[\"gross\"] = df[\"gross\"] / 1e6\n",
        "\n",
        "# Rename kolom\n",
        "df.rename(columns={\"budget\": \"budget_million_USD\",\"gross\": \"gross_million_USD\"}, inplace=True)\n",
        "\n",
        "# cek hasil\n",
        "print(df[[\"budget_million_USD\", \"gross_million_USD\"]].head())"
      ]
    },
    {
      "cell_type": "markdown",
      "metadata": {
        "id": "kzKa5-hE6Nu1"
      },
      "source": [
        "KOLOM MOVIE_FACEBOOK_LIKES"
      ]
    },
    {
      "cell_type": "code",
      "execution_count": 98,
      "metadata": {
        "colab": {
          "base_uri": "https://localhost:8080/"
        },
        "id": "WCdm04nmli5s",
        "outputId": "82b4b1e0-5508-44aa-91a0-6c1811a1302c"
      },
      "outputs": [
        {
          "output_type": "stream",
          "name": "stdout",
          "text": [
            "   movie_facebook_likes_scaled\n",
            "0                        138.0\n",
            "1                         95.0\n",
            "2                        114.0\n",
            "3                          0.0\n",
            "4                         83.0\n"
          ]
        }
      ],
      "source": [
        "# Buat kolom scaled dan hapus kolom asli\n",
        "df[\"movie_facebook_likes_scaled\"] = df[\"movie_facebook_likes\"] / 1000\n",
        "\n",
        "# Drop kolom\n",
        "df.drop(columns=[\"movie_facebook_likes\"], inplace=True)\n",
        "\n",
        "# Cek hasil\n",
        "print(df[[\"movie_facebook_likes_scaled\"]].head())\n"
      ]
    },
    {
      "cell_type": "markdown",
      "metadata": {
        "id": "o9xG2_XLlDXC"
      },
      "source": [
        "NORMALISASI"
      ]
    },
    {
      "cell_type": "code",
      "execution_count": 99,
      "metadata": {
        "colab": {
          "base_uri": "https://localhost:8080/"
        },
        "id": "AWydEGBOgsv9",
        "outputId": "bd308e36-4f72-4b1f-8987-03a46e8643e9"
      },
      "outputs": [
        {
          "output_type": "stream",
          "name": "stdout",
          "text": [
            "   imdb_score_norm\n",
            "0         0.931818\n",
            "1         0.818182\n",
            "2         0.897727\n",
            "3         0.738636\n",
            "4         0.897727\n"
          ]
        }
      ],
      "source": [
        "# Normalisasi kolom imdb_score\n",
        "df[\"imdb_score_norm\"] = (df[\"imdb_score\"] / df[\"imdb_score\"].max()).astype(float)\n",
        "\n",
        "# cek hasil\n",
        "print(df[[\"imdb_score_norm\"]].head())\n"
      ]
    },
    {
      "cell_type": "code",
      "execution_count": 100,
      "metadata": {
        "colab": {
          "base_uri": "https://localhost:8080/"
        },
        "id": "rvVw6Oipr7gs",
        "outputId": "6aa91e4c-17b7-46f4-8cfd-aabd6469de6d"
      },
      "outputs": [
        {
          "output_type": "stream",
          "name": "stdout",
          "text": [
            "   duration_hours_norm\n",
            "0             1.000000\n",
            "1             0.812500\n",
            "2             0.779167\n",
            "3             0.775000\n",
            "4             0.775000\n"
          ]
        }
      ],
      "source": [
        "# ubah duration dari menit ke jam\n",
        "df[\"duration_hours\"] = df[\"duration\"] / 60\n",
        "\n",
        "# normalisasi 0-1\n",
        "df[\"duration_hours_norm\"] = (df[\"duration_hours\"] / df[\"duration_hours\"].max()).astype(float)\n",
        "\n",
        "# cek hasil\n",
        "print(df[[\"duration_hours_norm\"]].head())\n"
      ]
    },
    {
      "cell_type": "markdown",
      "source": [
        "BINNING DATAA"
      ],
      "metadata": {
        "id": "2k0xHZPSRH5A"
      }
    },
    {
      "cell_type": "markdown",
      "source": [
        "KOLOM IMDB_SCORE"
      ],
      "metadata": {
        "id": "28hSzWE4XU4S"
      }
    },
    {
      "cell_type": "code",
      "source": [
        "import matplotlib.pyplot as plt\n",
        "\n",
        "#Kolom IMDB_SCORE\n",
        "df[\"imdb_score\"] = df[\"imdb_score\"].astype(int, copy=True)\n",
        "plt.hist(df[\"imdb_score\"])\n",
        "plt.xlabel(\"imdb_score\")\n",
        "plt.ylabel(\"count\")\n",
        "plt.title(\"imdb_score bins\")\n",
        "plt.show()\n",
        "\n",
        "bins = np.linspace(min(df[\"imdb_score\"]), max(df[\"imdb_score\"]), 4)\n",
        "print(bins)\n",
        "\n",
        "group_names = ['Low', 'Medium', 'High']\n",
        "\n",
        "df['imdb_score-binned'] = pd.cut(df['imdb_score'], bins, labels=group_names, include_lowest=True)\n",
        "print(df[['imdb_score','imdb_score-binned']].head(5))\n",
        "\n",
        "plt.bar(group_names, df[\"imdb_score-binned\"].value_counts())\n",
        "plt.xlabel(\"imdb_score\")\n",
        "plt.ylabel(\"count\")\n",
        "plt.title(\"imdb_score bins\")\n",
        "plt.show()\n",
        "print('Perbandingan distribusi value imdb_score-binned:')\n",
        "print(df[\"imdb_score-binned\"].value_counts())"
      ],
      "metadata": {
        "colab": {
          "base_uri": "https://localhost:8080/",
          "height": 1000
        },
        "id": "SF-VylFmWugS",
        "outputId": "fac1f2c7-e283-43ca-8e05-ac796b74a903"
      },
      "execution_count": 101,
      "outputs": [
        {
          "output_type": "display_data",
          "data": {
            "text/plain": [
              "<Figure size 640x480 with 1 Axes>"
            ],
            "image/png": "[encoded data removed]"
          },
          "metadata": {}
        },
        {
          "output_type": "stream",
          "name": "stdout",
          "text": [
            "[4.         5.33333333 6.66666667 8.        ]\n",
            "   imdb_score imdb_score-binned\n",
            "0           8              High\n",
            "1           7              High\n",
            "2           7              High\n",
            "3           6            Medium\n",
            "4           7              High\n"
          ]
        },
        {
          "output_type": "display_data",
          "data": {
            "text/plain": [
              "<Figure size 640x480 with 1 Axes>"
            ],
            "image/png": "[encoded data removed]"
          },
          "metadata": {}
        },
        {
          "output_type": "stream",
          "name": "stdout",
          "text": [
            "Perbandingan distribusi value imdb_score-binned:\n",
            "imdb_score-binned\n",
            "High      55\n",
            "Medium    27\n",
            "Low        7\n",
            "Name: count, dtype: int64\n"
          ]
        }
      ]
    },
    {
      "cell_type": "markdown",
      "source": [
        "KOLOM MOVIE_FACEBOOK_LIKES"
      ],
      "metadata": {
        "id": "IZ--AHxjXY3g"
      }
    },
    {
      "cell_type": "code",
      "source": [
        "#Kolom MOVIE_FACEBOOK_LIKES\n",
        "df[\"movie_facebook_likes_scaled\"] = df[\"movie_facebook_likes_scaled\"].astype(int, copy=True)\n",
        "plt.hist(df[\"movie_facebook_likes_scaled\"])\n",
        "plt.xlabel(\"movie_facebook_likes_scaled\")\n",
        "plt.ylabel(\"count\")\n",
        "plt.title(\"movie_facebook_likes_scaled bins\")\n",
        "plt.show()\n",
        "\n",
        "bins = np.linspace(min(df[\"movie_facebook_likes_scaled\"]), max(df[\"movie_facebook_likes_scaled\"]), 4)\n",
        "print(bins)\n",
        "\n",
        "group_names = ['Low', 'Medium', 'High']\n",
        "\n",
        "df['movie_facebook_likes_scaled-binned'] = pd.cut(df['movie_facebook_likes_scaled'], bins, labels=group_names, include_lowest=True)\n",
        "print(df[['movie_facebook_likes_scaled','movie_facebook_likes_scaled-binned']].head(5))\n",
        "\n",
        "plt.bar(group_names, df[\"movie_facebook_likes_scaled-binned\"].value_counts())\n",
        "plt.xlabel(\"movie_facebook_likes_scaled\")\n",
        "plt.ylabel(\"count\")\n",
        "plt.title(\"movie_facebook_likes_scaled bins\")\n",
        "plt.show()\n",
        "print('Perbandingan distribusi value movie_facebook_likes_scaled-binned:')\n",
        "print(df[\"movie_facebook_likes_scaled-binned\"].value_counts())"
      ],
      "metadata": {
        "colab": {
          "base_uri": "https://localhost:8080/",
          "height": 1000
        },
        "id": "PZpraPiZW_OB",
        "outputId": "9be3c0ab-6772-4eba-ef37-702016f91414"
      },
      "execution_count": 102,
      "outputs": [
        {
          "output_type": "display_data",
          "data": {
            "text/plain": [
              "<Figure size 640x480 with 1 Axes>"
            ],
            "image/png": "[encoded data removed]"
          },
          "metadata": {}
        },
        {
          "output_type": "stream",
          "name": "stdout",
          "text": [
            "[  0.         116.33333333 232.66666667 349.        ]\n",
            "   movie_facebook_likes_scaled movie_facebook_likes_scaled-binned\n",
            "0                          138                             Medium\n",
            "1                           95                                Low\n",
            "2                          114                                Low\n",
            "3                            0                                Low\n",
            "4                           83                                Low\n"
          ]
        },
        {
          "output_type": "display_data",
          "data": {
            "text/plain": [
              "<Figure size 640x480 with 1 Axes>"
            ],
            "image/png": "[encoded data removed]"
          },
          "metadata": {}
        },
        {
          "output_type": "stream",
          "name": "stdout",
          "text": [
            "Perbandingan distribusi value movie_facebook_likes_scaled-binned:\n",
            "movie_facebook_likes_scaled-binned\n",
            "Low       71\n",
            "Medium    17\n",
            "High       1\n",
            "Name: count, dtype: int64\n"
          ]
        }
      ]
    },
    {
      "cell_type": "code",
      "source": [
        "from datetime import datetime\n",
        "\n",
        "# Misal df_new adalah DataFrame yang sudah dibersihkan dan diolah\n",
        "timestamp = datetime.now().strftime(\"%Y%m%d_%H%M%S\")\n",
        "file_name = f\"movies_cleaned_{timestamp}.xlsx\"\n",
        "\n"
      ],
      "metadata": {
        "id": "Ffc1Cw2oGfTk"
      },
      "execution_count": 103,
      "outputs": []
    },
    {
      "cell_type": "code",
      "source": [
        "df.to_csv('clean_df.csv', index=False)"
      ],
      "metadata": {
        "id": "2ZP2sctXMyzx"
      },
      "execution_count": 104,
      "outputs": []
    },
    {
      "cell_type": "code",
      "source": [
        "from google.colab import files\n",
        "files.download('clean_df.csv')"
      ],
      "metadata": {
        "colab": {
          "base_uri": "https://localhost:8080/",
          "height": 17
        },
        "id": "vBseapwAQWws",
        "outputId": "d60874ec-e7d4-48ef-dab0-92e6f33dcb78"
      },
      "execution_count": 105,
      "outputs": [
        {
          "output_type": "display_data",
          "data": {
            "text/plain": [
              "<IPython.core.display.Javascript object>"
            ],
            "application/javascript": [
              "\n",
              "    async function download(id, filename, size) {\n",
              "      if (!google.colab.kernel.accessAllowed) {\n",
              "        return;\n",
              "      }\n",
              "      const div = document.createElement('div');\n",
              "      const label = document.createElement('label');\n",
              "      label.textContent = `Downloading \"${filename}\": `;\n",
              "      div.appendChild(label);\n",
              "      const progress = document.createElement('progress');\n",
              "      progress.max = size;\n",
              "      div.appendChild(progress);\n",
              "      document.body.appendChild(div);\n",
              "\n",
              "      const buffers = [];\n",
              "      let downloaded = 0;\n",
              "\n",
              "      const channel = await google.colab.kernel.comms.open(id);\n",
              "      // Send a message to notify the kernel that we're ready.\n",
              "      channel.send({})\n",
              "\n",
              "      for await (const message of channel.messages) {\n",
              "        // Send a message to notify the kernel that we're ready.\n",
              "        channel.send({})\n",
              "        if (message.buffers) {\n",
              "          for (const buffer of message.buffers) {\n",
              "            buffers.push(buffer);\n",
              "            downloaded += buffer.byteLength;\n",
              "            progress.value = downloaded;\n",
              "          }\n",
              "        }\n",
              "      }\n",
              "      const blob = new Blob(buffers, {type: 'application/binary'});\n",
              "      const a = document.createElement('a');\n",
              "      a.href = window.URL.createObjectURL(blob);\n",
              "      a.download = filename;\n",
              "      div.appendChild(a);\n",
              "      a.click();\n",
              "      div.remove();\n",
              "    }\n",
              "  "
            ]
          },
          "metadata": {}
        },
        {
          "output_type": "display_data",
          "data": {
            "text/plain": [
              "<IPython.core.display.Javascript object>"
            ],
            "application/javascript": [
              "download(\"download_4d1f80eb-71ca-4049-b894-4532f16f490b\", \"clean_df.csv\", 18625)"
            ]
          },
          "metadata": {}
        }
      ]
    },
    {
      "cell_type": "code",
      "source": [],
      "metadata": {
        "id": "ZYtNI6Lm9mOl"
      },
      "execution_count": null,
      "outputs": []
    }
  ],
  "metadata": {
    "colab": {
      "provenance": []
    },
    "kernelspec": {
      "display_name": "Python 3",
      "name": "python3"
    },
    "language_info": {
      "name": "python"
    }
  },
  "nbformat": 4,
  "nbformat_minor": 0
}